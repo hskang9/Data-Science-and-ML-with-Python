{
 "cells": [
  {
   "cell_type": "markdown",
   "metadata": {},
   "source": [
    "# Percentiles"
   ]
  },
  {
   "cell_type": "code",
   "execution_count": 25,
   "metadata": {},
   "outputs": [
    {
     "data": {
      "image/png": "[encoded data removed]",
      "text/plain": [
       "<matplotlib.figure.Figure at 0x10d90af50>"
      ]
     },
     "metadata": {},
     "output_type": "display_data"
    },
    {
     "data": {
      "image/png": "[encoded data removed]",
      "text/plain": [
       "<matplotlib.figure.Figure at 0x10c589e50>"
      ]
     },
     "metadata": {},
     "output_type": "display_data"
    }
   ],
   "source": [
    "%matplotlib inline\n",
    "import numpy as np\n",
    "import matplotlib.pyplot as plt\n",
    "\n",
    "vals = np.random.normal(0, 0.5, 10000)\n",
    "\n",
    "plt.hist(vals, 50)\n",
    "plt.show()\n",
    "plt.boxplot(vals, 0, 'rs', 0)\n",
    "plt.show()"
   ]
  },
  {
   "cell_type": "code",
   "execution_count": 4,
   "metadata": {},
   "outputs": [
    {
     "data": {
      "text/plain": [
       "0.0075960192024799745"
      ]
     },
     "execution_count": 4,
     "metadata": {},
     "output_type": "execute_result"
    }
   ],
   "source": [
    "np.percentile(vals, 50)"
   ]
  },
  {
   "cell_type": "code",
   "execution_count": 5,
   "metadata": {},
   "outputs": [
    {
     "data": {
      "text/plain": [
       "0.64312975921014126"
      ]
     },
     "execution_count": 5,
     "metadata": {},
     "output_type": "execute_result"
    }
   ],
   "source": [
    "np.percentile(vals, 90)"
   ]
  },
  {
   "cell_type": "code",
   "execution_count": 40,
   "metadata": {},
   "outputs": [
    {
     "data": {
      "text/plain": [
       "-0.42058464182769012"
      ]
     },
     "execution_count": 40,
     "metadata": {},
     "output_type": "execute_result"
    }
   ],
   "source": [
    "np.percentile(vals, 20)"
   ]
  },
  {
   "cell_type": "markdown",
   "metadata": {},
   "source": [
    "## Activity"
   ]
  },
  {
   "cell_type": "markdown",
   "metadata": {},
   "source": [
    "Experiment with different parameters when creating the test data. What effect does it have on the percentiles?"
   ]
  },
  {
   "cell_type": "markdown",
   "metadata": {},
   "source": [
    "First, let's scale down test data and compare the result with box and whisker plot."
   ]
  },
  {
   "cell_type": "code",
   "execution_count": 62,
   "metadata": {},
   "outputs": [
    {
     "data": {
      "text/plain": [
       "(array([   1.,    2.,    3.,    1.,    9.,   10.,    5.,   17.,   26.,\n",
       "          30.,   57.,   67.,  109.,  128.,  166.,  211.,  269.,  333.,\n",
       "         343.,  461.,  486.,  519.,  554.,  597.,  684.,  605.,  610.,\n",
       "         564.,  537.,  470.,  411.,  362.,  321.,  234.,  219.,  158.,\n",
       "         113.,   93.,   78.,   49.,   33.,   22.,   10.,   10.,    3.,\n",
       "           3.,    2.,    1.,    1.,    3.]),\n",
       " array([ -3.83981934e-02,  -3.68599270e-02,  -3.53216607e-02,\n",
       "         -3.37833943e-02,  -3.22451280e-02,  -3.07068616e-02,\n",
       "         -2.91685953e-02,  -2.76303289e-02,  -2.60920626e-02,\n",
       "         -2.45537962e-02,  -2.30155299e-02,  -2.14772635e-02,\n",
       "         -1.99389972e-02,  -1.84007308e-02,  -1.68624645e-02,\n",
       "         -1.53241981e-02,  -1.37859318e-02,  -1.22476655e-02,\n",
       "         -1.07093991e-02,  -9.17113275e-03,  -7.63286641e-03,\n",
       "         -6.09460006e-03,  -4.55633371e-03,  -3.01806736e-03,\n",
       "         -1.47980101e-03,   5.84653369e-05,   1.59673169e-03,\n",
       "          3.13499803e-03,   4.67326438e-03,   6.21153073e-03,\n",
       "          7.74979708e-03,   9.28806343e-03,   1.08263298e-02,\n",
       "          1.23645961e-02,   1.39028625e-02,   1.54411288e-02,\n",
       "          1.69793952e-02,   1.85176615e-02,   2.00559279e-02,\n",
       "          2.15941942e-02,   2.31324606e-02,   2.46707269e-02,\n",
       "          2.62089933e-02,   2.77472596e-02,   2.92855260e-02,\n",
       "          3.08237923e-02,   3.23620587e-02,   3.39003250e-02,\n",
       "          3.54385914e-02,   3.69768577e-02,   3.85151241e-02]),\n",
       " <a list of 50 Patch objects>)"
      ]
     },
     "execution_count": 62,
     "metadata": {},
     "output_type": "execute_result"
    },
    {
     "data": {
      "image/png": "[encoded data removed]",
      "text/plain": [
       "<matplotlib.figure.Figure at 0x10df6e0d0>"
      ]
     },
     "metadata": {},
     "output_type": "display_data"
    }
   ],
   "source": [
    "test = np.random.normal(0, 0.01, 10000)\n",
    "plt.hist(test, 50)"
   ]
  },
  {
   "cell_type": "code",
   "execution_count": 63,
   "metadata": {},
   "outputs": [
    {
     "data": {
      "image/png": "[encoded data removed]",
      "text/plain": [
       "<matplotlib.figure.Figure at 0x10e3eab50>"
      ]
     },
     "metadata": {},
     "output_type": "display_data"
    }
   ],
   "source": [
    "plt.boxplot(vals, 0, 'rs', 0)\n",
    "plt.show()"
   ]
  },
  {
   "cell_type": "code",
   "execution_count": 64,
   "metadata": {},
   "outputs": [
    {
     "data": {
      "text/plain": [
       "-0.0068193843163629943"
      ]
     },
     "execution_count": 64,
     "metadata": {},
     "output_type": "execute_result"
    }
   ],
   "source": [
    "np.percentile(test, 25)"
   ]
  },
  {
   "cell_type": "code",
   "execution_count": 65,
   "metadata": {},
   "outputs": [
    {
     "data": {
      "text/plain": [
       "0.0065685473405615036"
      ]
     },
     "execution_count": 65,
     "metadata": {},
     "output_type": "execute_result"
    }
   ],
   "source": [
    "np.percentile(test, 75)"
   ]
  },
  {
   "cell_type": "code",
   "execution_count": 58,
   "metadata": {},
   "outputs": [
    {
     "data": {
      "text/plain": [
       "(array([   2.,    2.,    2.,    0.,    0.,    3.,   11.,   25.,   24.,\n",
       "          28.,   42.,   61.,  101.,  123.,  131.,  202.,  233.,  306.,\n",
       "         340.,  366.,  441.,  506.,  577.,  626.,  654.,  632.,  630.,\n",
       "         568.,  537.,  469.,  429.,  387.,  370.,  291.,  227.,  191.,\n",
       "         112.,  116.,   72.,   50.,   45.,   26.,   15.,    8.,    6.,\n",
       "           7.,    2.,    1.,    1.,    2.]),\n",
       " array([-39.58524489, -38.02601625, -36.46678761, -34.90755897,\n",
       "        -33.34833033, -31.78910169, -30.22987305, -28.67064441,\n",
       "        -27.11141578, -25.55218714, -23.9929585 , -22.43372986,\n",
       "        -20.87450122, -19.31527258, -17.75604394, -16.1968153 ,\n",
       "        -14.63758666, -13.07835803, -11.51912939,  -9.95990075,\n",
       "         -8.40067211,  -6.84144347,  -5.28221483,  -3.72298619,\n",
       "         -2.16375755,  -0.60452892,   0.95469972,   2.51392836,\n",
       "          4.073157  ,   5.63238564,   7.19161428,   8.75084292,\n",
       "         10.31007156,  11.8693002 ,  13.42852883,  14.98775747,\n",
       "         16.54698611,  18.10621475,  19.66544339,  21.22467203,\n",
       "         22.78390067,  24.34312931,  25.90235794,  27.46158658,\n",
       "         29.02081522,  30.58004386,  32.1392725 ,  33.69850114,\n",
       "         35.25772978,  36.81695842,  38.37618705]),\n",
       " <a list of 50 Patch objects>)"
      ]
     },
     "execution_count": 58,
     "metadata": {},
     "output_type": "execute_result"
    },
    {
     "data": {
      "image/png": "[encoded data removed]",
      "text/plain": [
       "<matplotlib.figure.Figure at 0x10dd93150>"
      ]
     },
     "metadata": {},
     "output_type": "display_data"
    }
   ],
   "source": [
    "test = np.random.normal(0, 10, 10000)\n",
    "plt.hist(test, 50)"
   ]
  },
  {
   "cell_type": "code",
   "execution_count": 59,
   "metadata": {},
   "outputs": [
    {
     "data": {
      "image/png": "[encoded data removed]",
      "text/plain": [
       "<matplotlib.figure.Figure at 0x10c88c610>"
      ]
     },
     "metadata": {},
     "output_type": "display_data"
    }
   ],
   "source": [
    "plt.boxplot(vals, 0, 'rs', 0)\n",
    "plt.show()"
   ]
  },
  {
   "cell_type": "code",
   "execution_count": 60,
   "metadata": {},
   "outputs": [
    {
     "data": {
      "text/plain": [
       "-6.6544393648638653"
      ]
     },
     "execution_count": 60,
     "metadata": {},
     "output_type": "execute_result"
    }
   ],
   "source": [
    "np.percentile(test, 25)"
   ]
  },
  {
   "cell_type": "markdown",
   "metadata": {},
   "source": [
    "# Conclusion: Percentiles locate closer to average as variance has lower value."
   ]
  },
  {
   "cell_type": "code",
   "execution_count": null,
   "metadata": {
    "collapsed": true
   },
   "outputs": [],
   "source": []
  }
 ],
 "metadata": {
  "kernelspec": {
   "display_name": "py36-test",
   "language": "python",
   "name": "py36-test"
  },
  "language_info": {
   "codemirror_mode": {
    "name": "ipython",
    "version": 2
   },
   "file_extension": ".py",
   "mimetype": "text/x-python",
   "name": "python",
   "nbconvert_exporter": "python",
   "pygments_lexer": "ipython2",
   "version": "2.7.13"
  }
 },
 "nbformat": 4,
 "nbformat_minor": 1
}
