{
 "cells": [
  {
   "cell_type": "code",
   "execution_count": 6,
   "metadata": {},
   "outputs": [],
   "source": [
    "# Stop all previous SparkContexts\n",
    "sc = SparkContext.getOrCreate()\n",
    "sc.stop()"
   ]
  },
  {
   "cell_type": "code",
   "execution_count": 7,
   "metadata": {},
   "outputs": [
    {
     "name": "stdout",
     "output_type": "stream",
     "text": [
      "Best document for Gettysburg is:\n",
      "(33.134762509171978, u'Abraham Lincoln')\n"
     ]
    }
   ],
   "source": [
    "from pyspark import SparkConf, SparkContext\n",
    "from pyspark.mllib.feature import HashingTF\n",
    "from pyspark.mllib.feature import IDF\n",
    "\n",
    "# Boilerplate Spark stuff:\n",
    "conf = SparkConf().setMaster(\"local\").setAppName(\"SparkTFIDF\")\n",
    "sc = SparkContext(conf = conf)\n",
    "\n",
    "# Load documents (one per line).\n",
    "rawData = sc.textFile(\"subset-small.tsv\")\n",
    "fields = rawData.map(lambda x: x.split(\"\\t\"))\n",
    "documents = fields.map(lambda x: x[3].split(\" \"))\n",
    "\n",
    "# Store the document names for later:\n",
    "documentNames = fields.map(lambda x: x[1])\n",
    "\n",
    "# Now hash the words in each document to their term frequencies:\n",
    "hashingTF = HashingTF(100000)  #100K hash buckets just to save some memory\n",
    "tf = hashingTF.transform(documents)\n",
    "\n",
    "# At this point we have an RDD of sparse vectors representing each document,\n",
    "# where each value maps to the term frequency of each unique hash value.\n",
    "\n",
    "# Let's compute the TF*IDF of each term in each document:\n",
    "tf.cache()\n",
    "idf = IDF(minDocFreq=2).fit(tf)\n",
    "tfidf = idf.transform(tf)\n",
    "\n",
    "# Now we have an RDD of sparse vectors, where each value is the TFxIDF\n",
    "# of each unique hash value for each document.\n",
    "\n",
    "# I happen to know that the article for \"Abraham Lincoln\" is in our data\n",
    "# set, so let's search for \"Gettysburg\" (Lincoln gave a famous speech there):\n",
    "\n",
    "# First, let's figure out what hash value \"Gettysburg\" maps to by finding the\n",
    "# index a sparse vector from HashingTF gives us back:\n",
    "gettysburgTF = hashingTF.transform([\"Gettysburg\"])\n",
    "gettysburgHashValue = int(gettysburgTF.indices[0])\n",
    "\n",
    "# Now we will extract the TF*IDF score for Gettsyburg's hash value into\n",
    "# a new RDD for each document:\n",
    "gettysburgRelevance = tfidf.map(lambda x: x[gettysburgHashValue])\n",
    "\n",
    "# We'll zip in the document names so we can see which is which:\n",
    "zippedResults = gettysburgRelevance.zip(documentNames)\n",
    "\n",
    "# And, print the document with the maximum TF*IDF value:\n",
    "print(\"Best document for Gettysburg is:\")\n",
    "print(zippedResults.max())\n"
   ]
  },
  {
   "cell_type": "code",
   "execution_count": null,
   "metadata": {
    "collapsed": true
   },
   "outputs": [],
   "source": []
  }
 ],
 "metadata": {
  "kernelspec": {
   "display_name": "Python 2",
   "language": "python",
   "name": "python2"
  }
 },
 "nbformat": 4,
 "nbformat_minor": 2
}
