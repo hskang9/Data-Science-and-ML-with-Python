{
 "cells": [
  {
   "cell_type": "code",
   "execution_count": 1,
   "metadata": {},
   "outputs": [
    {
     "ename": "NameError",
     "evalue": "name 'sc' is not defined",
     "output_type": "error",
     "traceback": [
      "\u001b[0;31m---------------------------------------------------------------------------\u001b[0m",
      "\u001b[0;31mNameError\u001b[0m                                 Traceback (most recent call last)",
      "\u001b[0;32m<ipython-input-1-22b38065f89d>\u001b[0m in \u001b[0;36m<module>\u001b[0;34m()\u001b[0m\n\u001b[0;32m----> 1\u001b[0;31m \u001b[0msc\u001b[0m\u001b[0;34m.\u001b[0m\u001b[0mstop\u001b[0m\u001b[0;34m(\u001b[0m\u001b[0;34m)\u001b[0m \u001b[0;31m# Stop all previous SparkContexts\u001b[0m\u001b[0;34m\u001b[0m\u001b[0m\n\u001b[0m",
      "\u001b[0;31mNameError\u001b[0m: name 'sc' is not defined"
     ]
    }
   ],
   "source": [
    "# Stop all previous SparkContexts\n",
    "sc = SparkContext.getOrCreate()\n",
    "sc.stop()"
   ]
  },
  {
   "cell_type": "code",
   "execution_count": null,
   "metadata": {
    "collapsed": true
   },
   "outputs": [],
   "source": [
    "from pyspark.mllib.regression import LabeledPoint\n",
    "from pyspark.mllib.tree import DecisionTree\n",
    "from pyspark import SparkConf, SparkContext\n",
    "from numpy import array\n",
    "\n",
    "# Boilerplate Spark stuff:\n",
    "conf = SparkConf().setMaster(\"local\").setAppName(\"SparkDecisionTree\")\n",
    "sc = SparkContext(conf = conf)\n",
    "\n",
    "# Some functions that convert our CSV input data into numerical\n",
    "# features for each job candidate\n",
    "def binary(YN):\n",
    "    if (YN == 'Y'):\n",
    "        return 1\n",
    "    else:\n",
    "        return 0\n",
    "\n",
    "    \n",
    "def mapEducation(degree):\n",
    "    if (degree == 'BS'):\n",
    "        return 1\n",
    "    elif (degree =='MS'):\n",
    "        return 2\n",
    "    elif (degree == 'PhD'):\n",
    "        return 3\n",
    "    else:\n",
    "        return 0\n",
    "\n",
    "    \n",
    "# Convert a list of raw fields from our CSV file to a\n",
    "# LabeledPoint that MLLib can use. All data must be numerical...\n",
    "def createLabeledPoints(fields):\n",
    "    yearsExperience = int(fields[0])\n",
    "    employed = binary(fields[1])\n",
    "    previousEmployers = int(fields[2])\n",
    "    educationLevel = mapEducation(fields[3])\n",
    "    topTier = binary(fields[4])\n",
    "    interned = binary(fields[5])\n",
    "    hired = binary(fields[6])\n",
    "\n",
    "    return LabeledPoint(hired, array([yearsExperience, employed,\n",
    "        previousEmployers, educationLevel, topTier, interned]))\n",
    "\n",
    "\n",
    "#Load up our CSV file, and filter out the header line with the column names\n",
    "rawData = sc.textFile(\"PastHires.csv\")\n",
    "header = rawData.first()\n",
    "rawData = rawData.filter(lambda x:x != header)\n",
    "\n",
    "# Split each line into a list based on the comma delimiters\n",
    "csvData = rawData.map(lambda x: x.split(\",\"))\n",
    "\n",
    "# Convert these lists to LabeledPoints\n",
    "trainingData = csvData.map(createLabeledPoints)\n",
    "\n",
    "\n",
    "# Create a test candidate, with 10 years of experience, currently employed,\n",
    "# 3 previous employers, a BS degree, but from a non-top-tier school where\n",
    "# he or she did not do an internship. You could of course load up a whole\n",
    "# huge RDD of test candidates from disk, too.\n",
    "testCandidates = [ array([10, 1, 3, 1, 0, 0])]\n",
    "testData = sc.parallelize(testCandidates)\n",
    "\n",
    "\n",
    "# Train our DecisionTree classifier using our data set\n",
    "model = DecisionTree.trainClassifier(trainingData, numClasses=2,\n",
    "                                     categoricalFeaturesInfo={1:2, 3:4, 4:2, 5:2},\n",
    "                                     impurity='gini', maxDepth=5, maxBins=32)\n",
    "\n",
    "\n",
    "# Now get predictions for our unknown candidates. (Note, you could separate\n",
    "# the source data into a training set and a test set while tuning\n",
    "# parameters and measure accuracy as you go!)\n",
    "predictions = model.predict(testData)\n",
    "print('Hire prediction:')\n",
    "results = predictions.collect()\n",
    "for result in results:\n",
    "    print(result)\n",
    "\n",
    "# We can also print out the decision tree itself:\n",
    "print('Learned classification tree model:')\n",
    "print(model.toDebugString())\n"
   ]
  },
  {
   "cell_type": "code",
   "execution_count": null,
   "metadata": {
    "collapsed": true
   },
   "outputs": [],
   "source": []
  }
 ],
 "metadata": {
  "kernelspec": {
   "display_name": "py36-test",
   "language": "python",
   "name": "py36-test"
  },
  "language_info": {
   "codemirror_mode": {
    "name": "ipython",
    "version": 2
   },
   "file_extension": ".py",
   "mimetype": "text/x-python",
   "name": "python",
   "nbconvert_exporter": "python",
   "pygments_lexer": "ipython2",
   "version": "2.7.13"
  }
 },
 "nbformat": 4,
 "nbformat_minor": 2
}
